{
 "cells": [
  {
   "cell_type": "markdown",
   "metadata": {},
   "source": [
    "<img src=\"https://bit.ly/2VnXWr2\" width=\"100\" align=\"left\">"
   ]
  },
  {
   "cell_type": "markdown",
   "metadata": {},
   "source": [
    "# Temperature Sensor\n",
    "\n",
    "There is a temperature sensor in the processor of your company's server. The company wants to analyze the data provided by the sensor to decide if they should change the cooling system for a better one. As changing the cooling system is expensive and you are an excellent data analyst, you can't make a decision without basis.\n",
    "\n",
    "## Tools\n",
    "You don't necessarily need to use all the tools. Maybe you opt to use some of them or completely different ones, they are given to help you shape the exercise. Programming exercises can be solved in many different ways.\n",
    "1. Data structures: **lists**\n",
    "2. Loops: **list comprehension**\n",
    "3. Functions: **min, max, print, len**\n",
    "4. Conditional statements: **if-elif-else**\n",
    "\n",
    "## Tasks\n",
    "The temperatures measured throughout the 24 hours of a day are:"
   ]
  },
  {
   "cell_type": "code",
   "execution_count": null,
   "metadata": {},
   "outputs": [],
   "source": [
    "temperatures_C = [33, 66, 65, 0, 59, 60, 62, 64, 70, 76, 80, 81, 80, 83, 90, 79, 61, 53, 50, 49, 53, 48, 45, 39]"
   ]
  },
  {
   "cell_type": "markdown",
   "metadata": {},
   "source": [
    "The first element of the list is the temperature at 12am, the second element is the temperature at 1am, and so on. \n",
    "\n",
    "The company has decided that if one of the following events occurs, then the cooling system needs to be replaced for a new one to avoid damaging the processor.\n",
    "* More than 4 temperatures are greater than or equal to 70ºC.\n",
    "* Any temperature is above 80ºC.\n",
    "* The average temperature exceeds 65ºC.\n",
    "\n",
    "Follow the steps so that you can make the decision.\n",
    "\n",
    "#### 1. Find the minimum temperature of the day and store it in a variable."
   ]
  },
  {
   "cell_type": "code",
   "execution_count": 2,
   "metadata": {},
   "outputs": [
    {
     "name": "stdout",
     "output_type": "stream",
     "text": [
      "0\n"
     ]
    }
   ],
   "source": [
    "temperatures_C = [33, 66, 65, 0, 59, 60, 62, 64, 70, 76, 80, 81, 80, 83, 90, 79, 61, 53, 50, 49, 53, 48, 45, 39]\n",
    "\n",
    "min_temp = min (temperatures_C)\n",
    "\n",
    "print (min_temp)"
   ]
  },
  {
   "cell_type": "markdown",
   "metadata": {},
   "source": [
    "#### 2. Find the maximum temperature of the day and store it in a variable."
   ]
  },
  {
   "cell_type": "code",
   "execution_count": 3,
   "metadata": {},
   "outputs": [
    {
     "name": "stdout",
     "output_type": "stream",
     "text": [
      "90\n"
     ]
    }
   ],
   "source": [
    "max_temp = max (temperatures_C)\n",
    "\n",
    "print (max_temp)"
   ]
  },
  {
   "cell_type": "markdown",
   "metadata": {},
   "source": [
    "#### 3. Create a list with the temperatures that are greater than or equal to 70ºC. Store it in a variable."
   ]
  },
  {
   "cell_type": "code",
   "execution_count": 4,
   "metadata": {},
   "outputs": [
    {
     "name": "stdout",
     "output_type": "stream",
     "text": [
      "[70, 76, 80, 81, 80, 83, 90, 79]\n"
     ]
    }
   ],
   "source": [
    "temperatures_C = [33, 66, 65, 0, 59, 60, 62, 64, 70, 76, 80, 81, 80, 83, 90, 79, 61, 53, 50, 49, 53, 48, 45, 39]\n",
    "high_temp = []\n",
    "hour = 0\n",
    "\n",
    "while hour < len (temperatures_C):\n",
    "    if temperatures_C[hour] >= 70:\n",
    "        high_temp.append (temperatures_C[hour])\n",
    "        hour += 1\n",
    "    else:\n",
    "        hour += 1\n",
    "    \n",
    "print (high_temp)"
   ]
  },
  {
   "cell_type": "markdown",
   "metadata": {},
   "source": [
    "#### 4. Find the average temperature of the day and store it in a variable."
   ]
  },
  {
   "cell_type": "code",
   "execution_count": 5,
   "metadata": {},
   "outputs": [
    {
     "name": "stdout",
     "output_type": "stream",
     "text": [
      "60.25\n"
     ]
    }
   ],
   "source": [
    "avg_temp = sum (temperatures_C) / len (temperatures_C)\n",
    "\n",
    "print (avg_temp)"
   ]
  },
  {
   "cell_type": "markdown",
   "metadata": {},
   "source": [
    "#### 5. Imagine that there was a sensor failure at 3am and the data for that specific hour was not recorded. How would you estimate the missing value? Replace the current value of the list at 3am for an estimation. "
   ]
  },
  {
   "cell_type": "code",
   "execution_count": 6,
   "metadata": {},
   "outputs": [
    {
     "name": "stdout",
     "output_type": "stream",
     "text": [
      "[33, 66, 65, 0, 59, 60, 62, 64, 70, 76, 80, 81, 80, 83, 90, 83.0, 79, 61, 53, 50, 49, 53, 48, 45, 39]\n"
     ]
    }
   ],
   "source": [
    "temperatures_C = [33, 66, 65, 0, 59, 60, 62, 64, 70, 76, 80, 81, 80, 83, 90, 79, 61, 53, 50, 49, 53, 48, 45, 39]\n",
    "\n",
    "temperatures_C_a = temperatures_C[:15]\n",
    "temperatures_C_b = temperatures_C[15:]\n",
    "\n",
    "if ((temperatures_C[14] - temperatures_C[15])**2)**(1/2) >= ((temperatures_C[14] - temperatures_C[13])**2)**(1/2):\n",
    "    \n",
    "    if temperatures_C[14] > temperatures_C[15]:\n",
    "        temperatures_C_a.append (temperatures_C[14] - ((temperatures_C[14] - temperatures_C[13])**2)**(1/2))\n",
    "    elif temperatures_C[14] < temperatures_C[15]:\n",
    "        temperatures_C_a.append (temperatures_C[14] + ((temperatures_C[14] - temperatures_C[13])**2)**(1/2))\n",
    "    else:\n",
    "        temperatures_C_a.append (temperatures_C[14])\n",
    "\n",
    "elif ((temperatures_C[14] - temperatures_C[15])**2)**(1/2) < ((temperatures_C[14] - temperatures_C[13])**2)**(1/2):\n",
    "    \n",
    "    if temperatures_C[14] > temperatures_C[15]:\n",
    "        temperatures_C_a.append (temperatures_C[14] - ((temperatures_C[13] + temperatures_C[14]) / 2))\n",
    "    elif temperatures_C[14] < temperatures_C[15]:\n",
    "        temperatures_C_a.append (temperatures_C[14] + ((temperatures_C[13] + temperatures_C[14]) / 2))\n",
    "    else:\n",
    "        temperatures_C_a.append (temperatures_C[14])\n",
    "        \n",
    "temperatures_C = temperatures_C_a + temperatures_C_b\n",
    "\n",
    "print (temperatures_C)"
   ]
  },
  {
   "cell_type": "markdown",
   "metadata": {},
   "source": [
    "#### 6. Bonus: the maintenance staff is from the United States and does not understand the international metric system. Help them by converting the temperatures from Celsius to Fahrenheit.\n",
    "To know more about temperature conversion check this [link](https://en.wikipedia.org/wiki/Conversion_of_units_of_temperature).\n",
    "\n",
    "**Formula**: \n",
    "\n",
    "$F = 1.8 * C + 32$"
   ]
  },
  {
   "cell_type": "code",
   "execution_count": 7,
   "metadata": {},
   "outputs": [
    {
     "name": "stdout",
     "output_type": "stream",
     "text": [
      "[91.4, 150.8, 149.0, 32.0, 138.2, 140.0, 143.60000000000002, 147.2, 158.0, 168.8, 176.0, 177.8, 176.0, 181.4, 194.0, 181.4, 174.20000000000002, 141.8, 127.4, 122.0, 120.2, 127.4, 118.4, 113.0, 102.2]\n"
     ]
    }
   ],
   "source": [
    "temperatures_F = []\n",
    "\n",
    "for i in temperatures_C:\n",
    "    temperatures_F.append (((1.8*i)+32))\n",
    "\n",
    "print (temperatures_F)"
   ]
  },
  {
   "cell_type": "markdown",
   "metadata": {},
   "source": [
    "#### 7. Make a decision!\n",
    "Now it's time to make a decision taking into account what you have seen until now. \n",
    "\n",
    "Remember that if one of the following events occurs, then the cooling system needs to be replaced for a new one to avoid damaging the processor.\n",
    "* More than 4 temperatures are greater than or equal to 70ºC.\n",
    "* Any temperature is above 80ºC.\n",
    "* The average temperature exceeds 65ºC.\n",
    "\n",
    "#### To make your decision, check if any of the three conditions above is met. You might need to use some of the variables you created in steps 1 to 6. Print a message to show if the cooling system needs to be changed or not."
   ]
  },
  {
   "cell_type": "code",
   "execution_count": 8,
   "metadata": {},
   "outputs": [
    {
     "name": "stdout",
     "output_type": "stream",
     "text": [
      "The cooling system doesn't have to be replaced\n"
     ]
    }
   ],
   "source": [
    "if (len (high_temp) > 4) & (max (temperatures_C) > 80) & (avg_temp > 65):\n",
    "    print ('The cooling system should be replaced')\n",
    "else:\n",
    "    print (\"The cooling system doesn't have to be replaced\")"
   ]
  },
  {
   "cell_type": "markdown",
   "metadata": {},
   "source": [
    "## Bonus\n",
    "\n",
    "The company has decided that the decision you made is not valid. They want you to analyze the data again but this time, the conditions that need to be met in order to change the cooling system are different.\n",
    "\n",
    "This time, if one of the following events occurs, then the cooling system needs to be replaced:\n",
    "* The temperature is greater than 70ºC during more than 4 consecutive hours.\n",
    "* Any temperature is above 80ºC.\n",
    "* The average temperature exceeds 65ºC.\n",
    "\n",
    "Follow the steps so that you can make the decision.\n",
    "\n",
    "#### 1. Create a list with the hours where the temperature is greater than 70ºC. Store it in a variable."
   ]
  },
  {
   "cell_type": "code",
   "execution_count": 9,
   "metadata": {},
   "outputs": [
    {
     "name": "stdout",
     "output_type": "stream",
     "text": [
      "[76, 80, 81, 80, 83, 90, 83.0, 79]\n"
     ]
    }
   ],
   "source": [
    "temperatures_C = [33, 66, 65, 0, 59, 60, 62, 64, 70, 76, 80, 81, 80, 83, 90, 83.0, 79, 61, 53, 50, 49, 53, 48, 45, 39]\n",
    "\n",
    "hour = 0\n",
    "\n",
    "high_temp = []\n",
    "\n",
    "for i in temperatures_C:\n",
    "    if i > 70:\n",
    "        high_temp.append(i)\n",
    "        \n",
    "print (high_temp)"
   ]
  },
  {
   "cell_type": "markdown",
   "metadata": {},
   "source": [
    "#### 2. Check if the list you created in step 1 has more than 4 consecutive hours. "
   ]
  },
  {
   "cell_type": "code",
   "execution_count": 13,
   "metadata": {},
   "outputs": [
    {
     "name": "stdout",
     "output_type": "stream",
     "text": [
      "Start of critical temperature at 21 hours.\n",
      "[76, 80, 81, 80, 83, 90, 83.0, 79]\n"
     ]
    }
   ],
   "source": [
    "temperatures_C = [33, 66, 65, 0, 59, 60, 62, 64, 70, 76, 80, 81, 80, 83, 90, 83.0, 79, 61, 53, 50, 49, 53, 48, 45, 39]\n",
    "hour = 0\n",
    "\n",
    "high_temp = []\n",
    "\n",
    "critical_temp = []\n",
    "critical_temp_a = []\n",
    "critical_temp_b = []\n",
    "\n",
    "for i in temperatures_C:\n",
    "    if i > 70:\n",
    "        high_temp.append(i)\n",
    "        \n",
    "while (hour + 4) < len (temperatures_C):\n",
    "    \n",
    "    critical_temp_h = 0\n",
    "    while (critical_temp_h + 4) < len (high_temp):\n",
    "        \n",
    "        if high_temp [critical_temp_h:(critical_temp_h + 4)] == temperatures_C [hour:(hour + 4)]:\n",
    "            \n",
    "            if (hour + 12) <= 23:            \n",
    "                print (\"Start of critical temperature at\", (hour + 12), \"hours.\")\n",
    "            else:\n",
    "                print (\"Start of critical temperature at\", (hour - 12), \"hours.\")\n",
    "            critical_temp_a.append (high_temp [critical_temp_h:(critical_temp_h + 4)])\n",
    "            while (high_temp [critical_temp_h:(critical_temp_h + 4)] == temperatures_C [hour:(hour + 4)]) & ((critical_temp_h + 4) < len(high_temp)):\n",
    "                \n",
    "                critical_temp_b.append (high_temp[(critical_temp_h + 4)])                \n",
    "                critical_temp_h +=1\n",
    "                hour +=1\n",
    "           \n",
    "            critical_temp = critical_temp_a[(len (critical_temp_a) - 1)] + critical_temp_b   \n",
    "            critical_temp_a = []\n",
    "            critical_temp_b = []\n",
    "            \n",
    "        else:\n",
    "            \n",
    "            critical_temp_h += 1\n",
    "    \n",
    "    hour += 1\n",
    "            \n",
    "print (critical_temp)"
   ]
  },
  {
   "cell_type": "markdown",
   "metadata": {},
   "source": [
    "#### 3. Make the decision!\n",
    "To make your decision, check if any of the three conditions is met. Print a message to show if the cooling system needs to be changed or not."
   ]
  },
  {
   "cell_type": "code",
   "execution_count": 3,
   "metadata": {},
   "outputs": [
    {
     "name": "stdout",
     "output_type": "stream",
     "text": [
      "Time to change the cooling system, guys. So go get your wallets\n"
     ]
    }
   ],
   "source": [
    "temperatures_C = [33, 66, 65, 0, 59, 60, 62, 64, 70, 76, 80, 81, 80, 83, 90, 83.0, 79, 61, 53, 50, 49, 53, 48, 45, 39]\n",
    "hour = 0\n",
    "\n",
    "high_temp = []\n",
    "\n",
    "critical_temp = []\n",
    "critical_temp_a = []\n",
    "critical_temp_b = []\n",
    "\n",
    "for i in temperatures_C:\n",
    "    if i > 70:\n",
    "        high_temp.append(i)\n",
    "        \n",
    "while (hour + 4) < len (temperatures_C):\n",
    "    \n",
    "    critical_temp_h = 0\n",
    "    while (critical_temp_h + 4) < len (high_temp):\n",
    "        \n",
    "        if high_temp [critical_temp_h:(critical_temp_h + 4)] == temperatures_C [hour:(hour + 4)]:\n",
    "            \n",
    "            critical_temp_a.append (high_temp [critical_temp_h:(critical_temp_h + 4)])\n",
    "            while (high_temp [critical_temp_h:(critical_temp_h + 4)] == temperatures_C [hour:(hour + 4)]) & ((critical_temp_h + 4) < len(high_temp)):\n",
    "                \n",
    "                critical_temp_b.append (high_temp[(critical_temp_h + 4)])                \n",
    "                critical_temp_h +=1\n",
    "                hour +=1\n",
    "           \n",
    "            critical_temp = critical_temp_a[(len (critical_temp_a) - 1)] + critical_temp_b   \n",
    "            critical_temp_a = []\n",
    "            critical_temp_b = []\n",
    "            \n",
    "        else:\n",
    "            \n",
    "            critical_temp_h += 1\n",
    "    \n",
    "    hour += 1\n",
    "\n",
    "avg_temp = sum (temperatures_C) / len (temperatures_C)\n",
    "\n",
    "if (len (critical_temp) > 4) | (max (temperatures_C) > 80) | (avg_temp > 65):\n",
    "    print (\"Time to change the cooling system, guys. So go get your wallets.\")\n",
    "else:\n",
    "    print (\"I told you, the cooling system is just fine. You shoul be more worried about the T-Rex's electric fence...\")"
   ]
  },
  {
   "cell_type": "markdown",
   "metadata": {},
   "source": [
    "#### 4. Find the average value of the temperature lists (ºC and ºF). What is the relation between both average values?"
   ]
  },
  {
   "cell_type": "code",
   "execution_count": 18,
   "metadata": {},
   "outputs": [
    {
     "name": "stdout",
     "output_type": "stream",
     "text": [
      "61.16\n",
      "142.088\n",
      "61.16\n"
     ]
    }
   ],
   "source": [
    "avg_temp_F = (sum (temperatures_F))/ len (temperatures_F)\n",
    "\n",
    "print ((sum(temperatures_C)/len (temperatures_C)))\n",
    "print (avg_temp_F)\n",
    "print ((avg_temp_F - 32)/1.8)"
   ]
  },
  {
   "cell_type": "markdown",
   "metadata": {},
   "source": [
    "#### 5. Find the standard deviation of the temperature lists (ºC and ºF). What is the relation between both standard deviations?"
   ]
  },
  {
   "cell_type": "code",
   "execution_count": 21,
   "metadata": {},
   "outputs": [
    {
     "name": "stdout",
     "output_type": "stream",
     "text": [
      "19.414798479510416\n",
      "34.94663726311875\n",
      "19.414798479510416\n"
     ]
    }
   ],
   "source": [
    "y = []\n",
    "\n",
    "for i in temperatures_C:\n",
    "    x = (i - (sum(temperatures_C)/len(temperatures_C)))**2\n",
    "    y.append(x)\n",
    "\n",
    "standard_deviation_C = (sum(y)/len(temperatures_C))**(1/2)\n",
    "\n",
    "y = []\n",
    "\n",
    "for i in temperatures_F:\n",
    "    x = (i - (sum(temperatures_F)/len(temperatures_F)))**2\n",
    "    y.append(x)\n",
    "\n",
    "standard_deviation_F = (sum(y)/len(temperatures_F))**(1/2)\n",
    "\n",
    "print (standard_deviation_C)\n",
    "print (standard_deviation_F)\n",
    "print (standard_deviation_F/1.8)"
   ]
  },
  {
   "cell_type": "code",
   "execution_count": null,
   "metadata": {},
   "outputs": [],
   "source": []
  }
 ],
 "metadata": {
  "kernelspec": {
   "display_name": "Python 3",
   "language": "python",
   "name": "python3"
  },
  "language_info": {
   "codemirror_mode": {
    "name": "ipython",
    "version": 3
   },
   "file_extension": ".py",
   "mimetype": "text/x-python",
   "name": "python",
   "nbconvert_exporter": "python",
   "pygments_lexer": "ipython3",
   "version": "3.8.3"
  }
 },
 "nbformat": 4,
 "nbformat_minor": 2
}
